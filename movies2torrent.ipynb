{
 "cells": [
  {
   "cell_type": "markdown",
   "metadata": {},
   "source": [
    "#### Example of scraping specific data from one site and requesting that data from another site.\n",
    "For educational purposes only. Movie titles above a certain score from MetaCritic are scrapped\n",
    "and inputed to the PirateBay, which returns 'magnet links' automaticly openned by this script\n",
    "and run in your torrent program."
   ]
  },
  {
   "cell_type": "code",
   "execution_count": 3,
   "metadata": {},
   "outputs": [],
   "source": [
    "import time\n",
    "import random\n",
    "import requests\n",
    "import webbrowser\n",
    "import pandas as pd\n",
    "\n",
    "import urllib.request\n",
    "from bs4 import BeautifulSoup\n",
    "from urllib.request import Request, urlopen"
   ]
  },
  {
   "cell_type": "code",
   "execution_count": 10,
   "metadata": {},
   "outputs": [],
   "source": [
    "#films relesed to DVD from the past 2 months\n",
    "req = Request('http://www.metacritic.com/browse/dvds/release-date/new-releases/date', headers={'User-Agent': 'Mozilla/5.0'})\n",
    "\n",
    "#films relesed to DVD prior than 2 months ago\n",
    "#req = Request('http://www.metacritic.com/browse/dvds/release-date/new-releases/date?page=1', headers={'User-Agent': 'Mozilla/5.0'})\n",
    "\n",
    "webpage = urlopen(req).read()\n",
    "\n",
    "#Grab & Process MetaCritic Data\n",
    "soup = BeautifulSoup(webpage, \"html.parser\")"
   ]
  },
  {
   "cell_type": "code",
   "execution_count": null,
   "metadata": {},
   "outputs": [],
   "source": []
  },
  {
   "cell_type": "code",
   "execution_count": 11,
   "metadata": {},
   "outputs": [],
   "source": [
    "esoup = soup.findAll('td', attrs={\"class\":\"clamp-summary-wrap\"})"
   ]
  },
  {
   "cell_type": "code",
   "execution_count": 12,
   "metadata": {},
   "outputs": [
    {
     "data": {
      "text/plain": [
       "100"
      ]
     },
     "execution_count": 12,
     "metadata": {},
     "output_type": "execute_result"
    }
   ],
   "source": [
    "len(esoup)"
   ]
  },
  {
   "cell_type": "code",
   "execution_count": 13,
   "metadata": {
    "scrolled": true
   },
   "outputs": [],
   "source": [
    "d = {}\n",
    "#ri = random.randint(98)\n",
    "for i in range(len(esoup)):\n",
    "    u_score = 0\n",
    "    c_score = 0\n",
    "    title = esoup[i].findAll('a', attrs={'title'})[0].text[1:-1]\n",
    "    if esoup[i].findAll('div', attrs={\"class\":\"metascore_w large movie positive\"}):\n",
    "        c_score = esoup[i].findAll('div', attrs={\"class\":\"metascore_w large movie positive\"})[0].text\n",
    "    if esoup[i].findAll('div', attrs={\"class\":\"metascore_w large movie mixed\"}):\n",
    "        c_score = esoup[i].findAll('div', attrs={\"class\":\"metascore_w large movie mixed\"})[0].text\n",
    "    if esoup[i].findAll('div', attrs={\"class\":\"metascore_w user large movie positive\"}):\n",
    "        u_score = esoup[i].findAll('div', attrs={\"class\":\"metascore_w user large movie positive\"})[0].text\n",
    "    if esoup[i].findAll('div', attrs={\"class\":\"metascore_w user large movie mixed\"}):\n",
    "        u_score = esoup[i].findAll('div', attrs={\"class\":\"metascore_w user large movie mixed\"})[0].text\n",
    "    d[title] = int(c_score), int(float(u_score) * 10)"
   ]
  },
  {
   "cell_type": "code",
   "execution_count": 14,
   "metadata": {},
   "outputs": [],
   "source": [
    "final = []\n",
    "for x in d.items():\n",
    "    if x[1][0] > 54:\n",
    "        final.append(x[0])\n",
    "    elif x[1][1] > 60:\n",
    "        final.append(x[0])"
   ]
  },
  {
   "cell_type": "code",
   "execution_count": 15,
   "metadata": {},
   "outputs": [
    {
     "data": {
      "text/plain": [
       "['All Creatures Here Below',\n",
       " 'The Best of Enemies',\n",
       " 'Combat Obscura',\n",
       " 'The Heiresses',\n",
       " \"Okko's Inn\",\n",
       " 'The Public',\n",
       " 'The River and the Wall',\n",
       " 'Storm Boy',\n",
       " 'Styx',\n",
       " 'We Have Always Lived in the Castle',\n",
       " 'The Hummingbird Project',\n",
       " 'Kangaroo',\n",
       " 'Ramen Shop',\n",
       " 'Transit',\n",
       " 'The Beach Bum',\n",
       " 'Giant Little Ones',\n",
       " 'Hale County This Morning, This Evening',\n",
       " 'Hotel Mumbai',\n",
       " 'Run the Race',\n",
       " 'Under the Silver Lake',\n",
       " 'Us',\n",
       " 'Captain Marvel',\n",
       " 'Five Feet Apart',\n",
       " 'The Mustang',\n",
       " 'Avengement',\n",
       " 'The Brink',\n",
       " 'Gloria Bell',\n",
       " 'J.T. Leroy',\n",
       " 'The Kid',\n",
       " 'The Man Who Killed Don Quixote',\n",
       " 'The Russian Five',\n",
       " 'Woman at War',\n",
       " \"Bisbee '17\",\n",
       " 'Climax',\n",
       " 'In the Last Days of the City',\n",
       " 'A Vigilante',\n",
       " 'Garry Winogrand: All Things are Photographable',\n",
       " 'How to Train Your Dragon: The Hidden World',\n",
       " 'The Image Book',\n",
       " \"Isn't It Romantic\",\n",
       " 'Let the Sunshine In',\n",
       " 'Science Fair',\n",
       " 'Sorry Angel',\n",
       " 'Apollo 11',\n",
       " 'Birds of Passage',\n",
       " 'Cold Pursuit',\n",
       " 'Fighting with My Family',\n",
       " 'Happy Death Day 2U',\n",
       " 'Never Grow Old',\n",
       " 'Never Look Away',\n",
       " 'Triple Threat',\n",
       " 'Her Smell',\n",
       " 'Blaze',\n",
       " 'Everybody Knows',\n",
       " 'The LEGO Movie 2: The Second Part',\n",
       " 'St. Agatha',\n",
       " 'To Dust',\n",
       " 'Arctic',\n",
       " 'Dragged Across Concrete',\n",
       " 'The Hole in the Ground',\n",
       " 'Level 16',\n",
       " 'Destroyer',\n",
       " 'The Gospel According to André',\n",
       " 'Glass',\n",
       " 'The Kid Who Would Be King',\n",
       " 'Mirai',\n",
       " 'On the Basis of Sex',\n",
       " 'Touch Me Not']"
      ]
     },
     "execution_count": 15,
     "metadata": {},
     "output_type": "execute_result"
    }
   ],
   "source": [
    "final"
   ]
  },
  {
   "cell_type": "code",
   "execution_count": 16,
   "metadata": {},
   "outputs": [
    {
     "name": "stdout",
     "output_type": "stream",
     "text": [
      "Us\n",
      "Captain%20Marvel\n",
      "Five%20Feet%20Apart\n",
      "Avengement\n",
      "The%20Brink\n",
      "J.T.%20Leroy\n",
      "Woman%20at%20War\n",
      "Climax\n",
      "How%20to%20Train%20Your%20Dragon:%20The%20Hidden%20World\n",
      "The%20Image%20Book\n",
      "Let%20the%20Sunshine%20In\n",
      "Science%20Fair\n",
      "Apollo%2011\n",
      "Birds%20of%20Passage\n",
      "Cold%20Pursuit\n",
      "The%20LEGO%20Movie%202:%20The%20Second%20Part\n",
      "St.%20Agatha\n",
      "To%20Dust\n",
      "Arctic\n",
      "Dragged%20Across%20Concrete\n",
      "The%20Hole%20in%20the%20Ground\n",
      "Level%2016\n",
      "Glass\n",
      "The%20Kid%20Who%20Would%20Be%20King\n",
      "On%20the%20Basis%20of%20Sex\n",
      "Touch%20Me%20Not\n"
     ]
    }
   ],
   "source": [
    "missed = []\n",
    "m_list = []\n",
    "for i in range(20, len(final)):\n",
    "    try:\n",
    "        search_terms = final[i].replace(' ', '%20')\n",
    "        req = Request('https://thepiratebay.org/search/'+search_terms+'/0/99/200', headers={'User-Agent': 'Mozilla/5.0'})\n",
    "        webpage = urlopen(req).read()\n",
    "        soup = BeautifulSoup(webpage, \"html.parser\")\n",
    "        m_list.append(soup.findAll(\"td\")[1].findAll(\"a\", href=True)[1]['href'])\n",
    "        print(search_terms)\n",
    "    except:\n",
    "        missed.append(final[i])"
   ]
  },
  {
   "cell_type": "code",
   "execution_count": 17,
   "metadata": {
    "scrolled": true
   },
   "outputs": [
    {
     "data": {
      "text/plain": [
       "['The Mustang',\n",
       " 'Gloria Bell',\n",
       " 'The Kid',\n",
       " 'The Man Who Killed Don Quixote',\n",
       " 'The Russian Five',\n",
       " \"Bisbee '17\",\n",
       " 'In the Last Days of the City',\n",
       " 'A Vigilante',\n",
       " 'Garry Winogrand: All Things are Photographable',\n",
       " \"Isn't It Romantic\",\n",
       " 'Sorry Angel',\n",
       " 'Fighting with My Family',\n",
       " 'Happy Death Day 2U',\n",
       " 'Never Grow Old',\n",
       " 'Never Look Away',\n",
       " 'Triple Threat',\n",
       " 'Her Smell',\n",
       " 'Blaze',\n",
       " 'Everybody Knows',\n",
       " 'Destroyer',\n",
       " 'The Gospel According to André',\n",
       " 'Mirai']"
      ]
     },
     "execution_count": 17,
     "metadata": {},
     "output_type": "execute_result"
    }
   ],
   "source": [
    "#Sometimes the PirateBay is offline for a request or the movie isn't up\n",
    "missed"
   ]
  },
  {
   "cell_type": "code",
   "execution_count": 18,
   "metadata": {
    "scrolled": true
   },
   "outputs": [],
   "source": [
    "pd.DataFrame(m_list).to_csv('magnetsjuly2019.csv', index=False)"
   ]
  },
  {
   "cell_type": "code",
   "execution_count": 19,
   "metadata": {
    "scrolled": true
   },
   "outputs": [],
   "source": [
    "m_list = pd.read_csv('magnetsjuly2019.csv')"
   ]
  },
  {
   "cell_type": "code",
   "execution_count": 20,
   "metadata": {
    "scrolled": true
   },
   "outputs": [
    {
     "data": {
      "text/html": [
       "<div>\n",
       "<style scoped>\n",
       "    .dataframe tbody tr th:only-of-type {\n",
       "        vertical-align: middle;\n",
       "    }\n",
       "\n",
       "    .dataframe tbody tr th {\n",
       "        vertical-align: top;\n",
       "    }\n",
       "\n",
       "    .dataframe thead th {\n",
       "        text-align: right;\n",
       "    }\n",
       "</style>\n",
       "<table border=\"1\" class=\"dataframe\">\n",
       "  <thead>\n",
       "    <tr style=\"text-align: right;\">\n",
       "      <th></th>\n",
       "      <th>0</th>\n",
       "    </tr>\n",
       "  </thead>\n",
       "  <tbody>\n",
       "    <tr>\n",
       "      <th>0</th>\n",
       "      <td>magnet:?xt=urn:btih:9f1bad7be934a423ea53832aa4...</td>\n",
       "    </tr>\n",
       "    <tr>\n",
       "      <th>1</th>\n",
       "      <td>magnet:?xt=urn:btih:e5340fb5c061e4e53618f41b48...</td>\n",
       "    </tr>\n",
       "    <tr>\n",
       "      <th>2</th>\n",
       "      <td>magnet:?xt=urn:btih:ac55dc7ac2c74f83be1ec1b2fd...</td>\n",
       "    </tr>\n",
       "    <tr>\n",
       "      <th>3</th>\n",
       "      <td>magnet:?xt=urn:btih:cb179cf6c8cff8df6fcc087cc1...</td>\n",
       "    </tr>\n",
       "    <tr>\n",
       "      <th>4</th>\n",
       "      <td>magnet:?xt=urn:btih:39702e4a50503dcf0dbc86ac4a...</td>\n",
       "    </tr>\n",
       "    <tr>\n",
       "      <th>5</th>\n",
       "      <td>magnet:?xt=urn:btih:55bcf3a2b23a1a97b96ba2f3db...</td>\n",
       "    </tr>\n",
       "    <tr>\n",
       "      <th>6</th>\n",
       "      <td>magnet:?xt=urn:btih:45d063631812532625f863fd63...</td>\n",
       "    </tr>\n",
       "    <tr>\n",
       "      <th>7</th>\n",
       "      <td>magnet:?xt=urn:btih:a7513a2d84dc967b595ae264fe...</td>\n",
       "    </tr>\n",
       "    <tr>\n",
       "      <th>8</th>\n",
       "      <td>magnet:?xt=urn:btih:e371a905f5def9162dea8418da...</td>\n",
       "    </tr>\n",
       "    <tr>\n",
       "      <th>9</th>\n",
       "      <td>magnet:?xt=urn:btih:7a60f225c0543f5e95bdb9f243...</td>\n",
       "    </tr>\n",
       "    <tr>\n",
       "      <th>10</th>\n",
       "      <td>magnet:?xt=urn:btih:7e85b5a8f1087abaf360cd1fc7...</td>\n",
       "    </tr>\n",
       "    <tr>\n",
       "      <th>11</th>\n",
       "      <td>magnet:?xt=urn:btih:7cfbd88c5f5338f282d7fe037d...</td>\n",
       "    </tr>\n",
       "    <tr>\n",
       "      <th>12</th>\n",
       "      <td>magnet:?xt=urn:btih:67e58ea3d1de0239bf34ff43da...</td>\n",
       "    </tr>\n",
       "    <tr>\n",
       "      <th>13</th>\n",
       "      <td>magnet:?xt=urn:btih:68f33f4c54c39659d462bfc5a4...</td>\n",
       "    </tr>\n",
       "    <tr>\n",
       "      <th>14</th>\n",
       "      <td>magnet:?xt=urn:btih:8f633ade68281674ebf175a9fc...</td>\n",
       "    </tr>\n",
       "    <tr>\n",
       "      <th>15</th>\n",
       "      <td>magnet:?xt=urn:btih:54bb6fcf624960ff41e5c27676...</td>\n",
       "    </tr>\n",
       "    <tr>\n",
       "      <th>16</th>\n",
       "      <td>magnet:?xt=urn:btih:e54e4bd0e8063a4a54ce2bbf34...</td>\n",
       "    </tr>\n",
       "    <tr>\n",
       "      <th>17</th>\n",
       "      <td>magnet:?xt=urn:btih:f4b28c57592c81fdca78f4320b...</td>\n",
       "    </tr>\n",
       "    <tr>\n",
       "      <th>18</th>\n",
       "      <td>magnet:?xt=urn:btih:0f3c8733ace4c6f322a7be5f92...</td>\n",
       "    </tr>\n",
       "    <tr>\n",
       "      <th>19</th>\n",
       "      <td>magnet:?xt=urn:btih:ef99ec15a79cec55f1a5f0e8bf...</td>\n",
       "    </tr>\n",
       "    <tr>\n",
       "      <th>20</th>\n",
       "      <td>magnet:?xt=urn:btih:9c6680ef35f021538daf141691...</td>\n",
       "    </tr>\n",
       "    <tr>\n",
       "      <th>21</th>\n",
       "      <td>magnet:?xt=urn:btih:4eabef8c4b443499692e7052fe...</td>\n",
       "    </tr>\n",
       "    <tr>\n",
       "      <th>22</th>\n",
       "      <td>magnet:?xt=urn:btih:3a21339534a738627588394bba...</td>\n",
       "    </tr>\n",
       "    <tr>\n",
       "      <th>23</th>\n",
       "      <td>magnet:?xt=urn:btih:064d126c8fe1f27ad03f507686...</td>\n",
       "    </tr>\n",
       "    <tr>\n",
       "      <th>24</th>\n",
       "      <td>magnet:?xt=urn:btih:11f72846b04599347d6c0193cb...</td>\n",
       "    </tr>\n",
       "    <tr>\n",
       "      <th>25</th>\n",
       "      <td>magnet:?xt=urn:btih:82bd01d795d1e39247eeaa4354...</td>\n",
       "    </tr>\n",
       "  </tbody>\n",
       "</table>\n",
       "</div>"
      ],
      "text/plain": [
       "                                                    0\n",
       "0   magnet:?xt=urn:btih:9f1bad7be934a423ea53832aa4...\n",
       "1   magnet:?xt=urn:btih:e5340fb5c061e4e53618f41b48...\n",
       "2   magnet:?xt=urn:btih:ac55dc7ac2c74f83be1ec1b2fd...\n",
       "3   magnet:?xt=urn:btih:cb179cf6c8cff8df6fcc087cc1...\n",
       "4   magnet:?xt=urn:btih:39702e4a50503dcf0dbc86ac4a...\n",
       "5   magnet:?xt=urn:btih:55bcf3a2b23a1a97b96ba2f3db...\n",
       "6   magnet:?xt=urn:btih:45d063631812532625f863fd63...\n",
       "7   magnet:?xt=urn:btih:a7513a2d84dc967b595ae264fe...\n",
       "8   magnet:?xt=urn:btih:e371a905f5def9162dea8418da...\n",
       "9   magnet:?xt=urn:btih:7a60f225c0543f5e95bdb9f243...\n",
       "10  magnet:?xt=urn:btih:7e85b5a8f1087abaf360cd1fc7...\n",
       "11  magnet:?xt=urn:btih:7cfbd88c5f5338f282d7fe037d...\n",
       "12  magnet:?xt=urn:btih:67e58ea3d1de0239bf34ff43da...\n",
       "13  magnet:?xt=urn:btih:68f33f4c54c39659d462bfc5a4...\n",
       "14  magnet:?xt=urn:btih:8f633ade68281674ebf175a9fc...\n",
       "15  magnet:?xt=urn:btih:54bb6fcf624960ff41e5c27676...\n",
       "16  magnet:?xt=urn:btih:e54e4bd0e8063a4a54ce2bbf34...\n",
       "17  magnet:?xt=urn:btih:f4b28c57592c81fdca78f4320b...\n",
       "18  magnet:?xt=urn:btih:0f3c8733ace4c6f322a7be5f92...\n",
       "19  magnet:?xt=urn:btih:ef99ec15a79cec55f1a5f0e8bf...\n",
       "20  magnet:?xt=urn:btih:9c6680ef35f021538daf141691...\n",
       "21  magnet:?xt=urn:btih:4eabef8c4b443499692e7052fe...\n",
       "22  magnet:?xt=urn:btih:3a21339534a738627588394bba...\n",
       "23  magnet:?xt=urn:btih:064d126c8fe1f27ad03f507686...\n",
       "24  magnet:?xt=urn:btih:11f72846b04599347d6c0193cb...\n",
       "25  magnet:?xt=urn:btih:82bd01d795d1e39247eeaa4354..."
      ]
     },
     "execution_count": 20,
     "metadata": {},
     "output_type": "execute_result"
    }
   ],
   "source": [
    "m_list"
   ]
  },
  {
   "cell_type": "code",
   "execution_count": null,
   "metadata": {
    "collapsed": true
   },
   "outputs": [],
   "source": [
    "#Loops through torrent magnet links and opens all instantly in your torrent software\n",
    "for i in m_list:\n",
    "    webbrowser.open(i)"
   ]
  },
  {
   "cell_type": "code",
   "execution_count": null,
   "metadata": {
    "collapsed": true
   },
   "outputs": [],
   "source": []
  },
  {
   "cell_type": "code",
   "execution_count": null,
   "metadata": {
    "collapsed": true
   },
   "outputs": [],
   "source": []
  },
  {
   "cell_type": "code",
   "execution_count": null,
   "metadata": {
    "collapsed": true
   },
   "outputs": [],
   "source": []
  },
  {
   "cell_type": "code",
   "execution_count": null,
   "metadata": {
    "collapsed": true
   },
   "outputs": [],
   "source": []
  }
 ],
 "metadata": {
  "anaconda-cloud": {},
  "kernelspec": {
   "display_name": "Python 3",
   "language": "python",
   "name": "python3"
  },
  "language_info": {
   "codemirror_mode": {
    "name": "ipython",
    "version": 3
   },
   "file_extension": ".py",
   "mimetype": "text/x-python",
   "name": "python",
   "nbconvert_exporter": "python",
   "pygments_lexer": "ipython3",
   "version": "3.6.5"
  }
 },
 "nbformat": 4,
 "nbformat_minor": 2
}
