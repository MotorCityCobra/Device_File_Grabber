{
 "cells": [
  {
   "cell_type": "code",
   "execution_count": null,
   "metadata": {},
   "outputs": [],
   "source": [
    "%pylab inline\n",
    "\n",
    "import glob\n",
    "import os\n",
    "\n",
    "import PIL"
   ]
  },
  {
   "cell_type": "code",
   "execution_count": null,
   "metadata": {},
   "outputs": [],
   "source": [
    "i = '/home/iii/tor/Alexa_face/crush_closeups/frames7841.png'"
   ]
  },
  {
   "cell_type": "code",
   "execution_count": null,
   "metadata": {},
   "outputs": [],
   "source": [
    "# Opens a image in RGB mode \n",
    "im = PIL.Image.open(i) \n",
    "  \n",
    "# Size of the image in pixels (size of orginal image) \n",
    "# (This is not mandatory) \n",
    "width, height = im.size \n",
    "  \n",
    "# Setting the points for cropped image \n",
    "left = 5\n",
    "top = height / 4\n",
    "right = 164\n",
    "bottom = 3 * height / 4\n",
    "  \n",
    "# Cropped image of above dimension \n",
    "# (It will not change orginal image) \n",
    "im1 = im.crop((left, top, right, bottom)) \n",
    "  \n",
    "# Shows the image in image viewer \n",
    "im1.show() "
   ]
  },
  {
   "cell_type": "code",
   "execution_count": null,
   "metadata": {},
   "outputs": [],
   "source": [
    "def top_left(img):\n",
    "    im = PIL.Image.open(i)\n",
    "    width, height = im.size\n",
    "    n_width = width / 2\n",
    "    n_height = height / 2\n",
    "    im2 = im.crop((0, 0, n_width, n_height))\n",
    "    return im2"
   ]
  },
  {
   "cell_type": "code",
   "execution_count": null,
   "metadata": {},
   "outputs": [],
   "source": [
    "def bottom_left(img):\n",
    "    im = PIL.Image.open(i)\n",
    "    width, height = im.size\n",
    "    n_width = width / 2\n",
    "    n_height = height / 2\n",
    "    im2 = im.crop((0, n_height, n_width, 1080))\n",
    "    return im2"
   ]
  },
  {
   "cell_type": "code",
   "execution_count": null,
   "metadata": {},
   "outputs": [],
   "source": [
    "def bottom_right(img):\n",
    "    im = PIL.Image.open(i)\n",
    "    width, height = im.size\n",
    "    n_width = width / 2\n",
    "    n_height = height / 2\n",
    "    im2 = im.crop((n_width, n_height-50, 1920, 1080-50))\n",
    "    return im2"
   ]
  },
  {
   "cell_type": "code",
   "execution_count": null,
   "metadata": {},
   "outputs": [],
   "source": [
    "def top_right(img):\n",
    "    im = PIL.Image.open(i)\n",
    "    width, height = im.size\n",
    "    n_width = width / 2\n",
    "    n_height = height / 2\n",
    "    im2 = im.crop((n_width, 0, 1920, n_height))\n",
    "    return im2"
   ]
  },
  {
   "cell_type": "code",
   "execution_count": null,
   "metadata": {},
   "outputs": [],
   "source": [
    "def middle_middle(img):\n",
    "    im = PIL.Image.open(i)\n",
    "    width, height = im.size\n",
    "    n_width = width / 2\n",
    "    n_height = height / 2\n",
    "    im2 = im.crop((480, 270, 1440, 810))\n",
    "    return im2"
   ]
  },
  {
   "cell_type": "code",
   "execution_count": null,
   "metadata": {},
   "outputs": [],
   "source": [
    "def bottom_middle(img):\n",
    "    im = PIL.Image.open(i)\n",
    "    width, height = im.size\n",
    "    n_width = width / 2\n",
    "    n_height = height / 2\n",
    "    im2 = im.crop((480, n_height, 1440, 1080))\n",
    "    return im2"
   ]
  },
  {
   "cell_type": "code",
   "execution_count": null,
   "metadata": {},
   "outputs": [],
   "source": [
    "def top_middle(img):\n",
    "    im = PIL.Image.open(i)\n",
    "    width, height = im.size\n",
    "    n_width = width / 2\n",
    "    n_height = height / 2\n",
    "    im2 = im.crop((480, 0, 1440, n_height))\n",
    "    return im2"
   ]
  },
  {
   "cell_type": "code",
   "execution_count": null,
   "metadata": {},
   "outputs": [],
   "source": [
    "def crop_all(img):\n",
    "    v = []\n",
    "    v.append(top_left(img))\n",
    "    v.append(bottom_left(img))\n",
    "    v.append(bottom_right(img))\n",
    "    v.append(top_right(img))\n",
    "    v.append(middle_middle(img))\n",
    "    v.append(bottom_middle(img))\n",
    "    v.append(top_middle(img))\n",
    "    return (v)"
   ]
  },
  {
   "cell_type": "code",
   "execution_count": null,
   "metadata": {},
   "outputs": [],
   "source": [
    "[imshow(x) for x in crop_all(i)]\n",
    "plt.show()"
   ]
  },
  {
   "cell_type": "code",
   "execution_count": null,
   "metadata": {
    "scrolled": false
   },
   "outputs": [],
   "source": [
    "imshow(top_middle(i))"
   ]
  },
  {
   "cell_type": "code",
   "execution_count": null,
   "metadata": {},
   "outputs": [],
   "source": [
    "PIL.Image.open(i)"
   ]
  },
  {
   "cell_type": "code",
   "execution_count": null,
   "metadata": {},
   "outputs": [],
   "source": [
    "1920 * .25"
   ]
  },
  {
   "cell_type": "code",
   "execution_count": null,
   "metadata": {},
   "outputs": [],
   "source": [
    "1920 - 480"
   ]
  },
  {
   "cell_type": "code",
   "execution_count": null,
   "metadata": {},
   "outputs": [],
   "source": []
  }
 ],
 "metadata": {
  "kernelspec": {
   "display_name": "Python 3",
   "language": "python",
   "name": "python3"
  },
  "language_info": {
   "codemirror_mode": {
    "name": "ipython",
    "version": 3
   },
   "file_extension": ".py",
   "mimetype": "text/x-python",
   "name": "python",
   "nbconvert_exporter": "python",
   "pygments_lexer": "ipython3",
   "version": "3.7.9"
  }
 },
 "nbformat": 4,
 "nbformat_minor": 4
}
