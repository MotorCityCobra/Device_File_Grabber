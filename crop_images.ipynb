{
 "cells": [
  {
   "cell_type": "code",
   "execution_count": null,
   "metadata": {},
   "outputs": [],
   "source": [
    "%pylab inline\n",
    "\n",
    "import glob\n",
    "import os\n",
    "\n",
    "import PIL\n",
    "from tqdm.notebook import tqdm"
   ]
  },
  {
   "cell_type": "code",
   "execution_count": null,
   "metadata": {},
   "outputs": [],
   "source": [
    "all_photos = glob.glob('/home/iii/tor/Alexa_face/crush_closeups/*.png')"
   ]
  },
  {
   "cell_type": "code",
   "execution_count": null,
   "metadata": {
    "scrolled": true
   },
   "outputs": [],
   "source": [
    "[crop_all(i) for i in tqdm(all_photos)]"
   ]
  },
  {
   "cell_type": "code",
   "execution_count": null,
   "metadata": {},
   "outputs": [],
   "source": [
    "def top_left(img):\n",
    "    im = PIL.Image.open(img)\n",
    "    im2 = im.crop((0, 0, 960, 540))\n",
    "    path = '/'.join(img.split('/')[:-2])+'/cropped/'\n",
    "    name = img.split('/')[-1:][0].split('.')[0]+'_top_left.png'\n",
    "    im2.save(path+name)"
   ]
  },
  {
   "cell_type": "code",
   "execution_count": null,
   "metadata": {},
   "outputs": [],
   "source": [
    "def bottom_left(img):\n",
    "    im = PIL.Image.open(img)\n",
    "    im2 = im.crop((0, 540, 960, 1080))\n",
    "    path = '/'.join(img.split('/')[:-2])+'/cropped/'\n",
    "    name = img.split('/')[-1:][0].split('.')[0]+'_bottom_left.png'\n",
    "    im2.save(path+name)"
   ]
  },
  {
   "cell_type": "code",
   "execution_count": null,
   "metadata": {},
   "outputs": [],
   "source": [
    "def bottom_right(img):\n",
    "    im = PIL.Image.open(img)\n",
    "    im2 = im.crop((960, 540-50, 1920, 1080-50))\n",
    "    path = '/'.join(img.split('/')[:-2])+'/cropped/'\n",
    "    name = img.split('/')[-1:][0].split('.')[0]+'_bottom_right.png'\n",
    "    im2.save(path+name)"
   ]
  },
  {
   "cell_type": "code",
   "execution_count": null,
   "metadata": {},
   "outputs": [],
   "source": [
    "def top_right(img):\n",
    "    im = PIL.Image.open(img)\n",
    "    im2 = im.crop((960, 0, 1920, 540))\n",
    "    path = '/'.join(img.split('/')[:-2])+'/cropped/'\n",
    "    name = img.split('/')[-1:][0].split('.')[0]+'_top_right.png'\n",
    "    im2.save(path+name)"
   ]
  },
  {
   "cell_type": "code",
   "execution_count": null,
   "metadata": {},
   "outputs": [],
   "source": [
    "def middle_middle(img):\n",
    "    im = PIL.Image.open(img)\n",
    "    im2 = im.crop((480, 270, 1440, 810))\n",
    "    path = '/'.join(img.split('/')[:-2])+'/cropped/'\n",
    "    name = img.split('/')[-1:][0].split('.')[0]+'_middle_middle.png'\n",
    "    im2.save(path+name)"
   ]
  },
  {
   "cell_type": "code",
   "execution_count": null,
   "metadata": {},
   "outputs": [],
   "source": [
    "def bottom_middle(img):\n",
    "    im = PIL.Image.open(img)\n",
    "    im2 = im.crop((480, 540, 1440, 1080))\n",
    "    path = '/'.join(img.split('/')[:-2])+'/cropped/'\n",
    "    name = img.split('/')[-1:][0].split('.')[0]+'_bottom_middle.png'\n",
    "    im2.save(path+name)"
   ]
  },
  {
   "cell_type": "code",
   "execution_count": null,
   "metadata": {},
   "outputs": [],
   "source": [
    "def top_middle(img):\n",
    "    im = PIL.Image.open(img)\n",
    "    im2 = im.crop((480, 0, 1440, 540))\n",
    "    path = '/'.join(img.split('/')[:-2])+'/cropped/'\n",
    "    name = img.split('/')[-1:][0].split('.')[0]+'_top_middle.png'\n",
    "    im2.save(path+name)"
   ]
  },
  {
   "cell_type": "code",
   "execution_count": null,
   "metadata": {},
   "outputs": [],
   "source": [
    "def crop_all(img):\n",
    "    top_left(img)\n",
    "    bottom_left(img)\n",
    "    bottom_right(img)\n",
    "    top_right(img)\n",
    "    middle_middle(img)\n",
    "    bottom_middle(img)\n",
    "    top_middle(img)"
   ]
  },
  {
   "cell_type": "code",
   "execution_count": null,
   "metadata": {},
   "outputs": [],
   "source": [
    "crop_all(i)"
   ]
  },
  {
   "cell_type": "code",
   "execution_count": null,
   "metadata": {
    "scrolled": false
   },
   "outputs": [],
   "source": [
    "imshow(top_middle(i))"
   ]
  },
  {
   "cell_type": "code",
   "execution_count": null,
   "metadata": {},
   "outputs": [],
   "source": [
    "PIL.Image.open(i)"
   ]
  },
  {
   "cell_type": "code",
   "execution_count": null,
   "metadata": {},
   "outputs": [],
   "source": [
    "1920 * .25"
   ]
  },
  {
   "cell_type": "code",
   "execution_count": null,
   "metadata": {},
   "outputs": [],
   "source": [
    "1920 - 480"
   ]
  },
  {
   "cell_type": "code",
   "execution_count": null,
   "metadata": {},
   "outputs": [],
   "source": []
  }
 ],
 "metadata": {
  "kernelspec": {
   "display_name": "Python 3",
   "language": "python",
   "name": "python3"
  },
  "language_info": {
   "codemirror_mode": {
    "name": "ipython",
    "version": 3
   },
   "file_extension": ".py",
   "mimetype": "text/x-python",
   "name": "python",
   "nbconvert_exporter": "python",
   "pygments_lexer": "ipython3",
   "version": "3.7.9"
  }
 },
 "nbformat": 4,
 "nbformat_minor": 4
}
